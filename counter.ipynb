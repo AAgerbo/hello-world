{
 "cells": [
  {
   "cell_type": "code",
   "execution_count": null,
   "id": "083e6599-3dff-4c3c-b31e-162162a64b76",
   "metadata": {},
   "outputs": [],
   "source": [
    "import time\n",
    "count=int(input(\"How many c\"))\n",
    "i=0\n",
    "while i<count:\n",
    "    i+=1\n",
    "    print(str(i)+\"...\")"
   ]
  }
 ],
 "metadata": {
  "kernelspec": {
   "display_name": "Python 3",
   "language": "python",
   "name": "python3"
  },
  "language_info": {
   "codemirror_mode": {
    "name": "ipython",
    "version": 3
   },
   "file_extension": ".py",
   "mimetype": "text/x-python",
   "name": "python",
   "nbconvert_exporter": "python",
   "pygments_lexer": "ipython3",
   "version": "3.8.8"
  }
 },
 "nbformat": 4,
 "nbformat_minor": 5
}
