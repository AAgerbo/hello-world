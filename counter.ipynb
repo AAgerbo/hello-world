{
 "cells": [
  {
   "cell_type": "code",
   "execution_count": 2,
   "id": "083e6599-3dff-4c3c-b31e-162162a64b76",
   "metadata": {},
   "outputs": [
    {
     "name": "stdin",
     "output_type": "stream",
     "text": [
      "What number should I count to?  10\n"
     ]
    },
    {
     "name": "stdout",
     "output_type": "stream",
     "text": [
      "1...\n",
      "2...\n",
      "3...\n",
      "4...\n",
      "5...\n",
      "6...\n",
      "7...\n",
      "8...\n",
      "9...\n",
      "10...\n"
     ]
    }
   ],
   "source": [
    "import time\n",
    "count=int(input(\"What number should I count to? \"))\n",
    "i=0\n",
    "while i<count:\n",
    "    i+=1\n",
    "    print(str(i)+\"...\")\n",
    "    time.sleep(0.2)"
   ]
  },
  {
   "cell_type": "code",
   "execution_count": null,
   "id": "cc77f62a-834d-4640-a06b-1d58b7f20ca0",
   "metadata": {},
   "outputs": [],
   "source": []
  }
 ],
 "metadata": {
  "kernelspec": {
   "display_name": "Python 3",
   "language": "python",
   "name": "python3"
  },
  "language_info": {
   "codemirror_mode": {
    "name": "ipython",
    "version": 3
   },
   "file_extension": ".py",
   "mimetype": "text/x-python",
   "name": "python",
   "nbconvert_exporter": "python",
   "pygments_lexer": "ipython3",
   "version": "3.8.8"
  }
 },
 "nbformat": 4,
 "nbformat_minor": 5
}
